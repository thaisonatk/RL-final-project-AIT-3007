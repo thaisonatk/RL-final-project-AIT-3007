{
 "cells": [
  {
   "cell_type": "code",
   "execution_count": null,
   "metadata": {},
   "outputs": [],
   "source": [
    "!pip install torch\n",
    "!pip install magent2\n",
    "!pip install opencv-python\n",
    "!pip install tqdm"
   ]
  },
  {
   "cell_type": "code",
   "execution_count": 58,
   "metadata": {},
   "outputs": [],
   "source": [
    "# import lib\n",
    "import numpy as np\n",
    "import random\n",
    "import torch\n",
    "import torch.nn as nn\n",
    "import torch.optim as optim\n",
    "from collections import deque\n",
    "from tqdm import tqdm\n",
    "import torch.nn.functional as F\n",
    "from torch.utils.data import Dataset, DataLoader\n",
    "from magent2.environments import battle_v4\n",
    "import copy\n",
    "import faulthandler\n",
    "import math\n",
    "import matplotlib.pyplot as plt\n",
    "faulthandler.enable()"
   ]
  },
  {
   "cell_type": "markdown",
   "metadata": {},
   "source": [
    "## Training agents"
   ]
  },
  {
   "cell_type": "code",
   "execution_count": 59,
   "metadata": {},
   "outputs": [],
   "source": [
    "# My QNetwork, adding GRU and LayerNorm to learn sequental and skip exploit and vanishing gradient\n",
    "\n",
    "class QNetworkGRU(nn.Module):\n",
    "    def __init__(self, observation_shape, action_shape,hidden_size=256,num_layers=2):\n",
    "        super().__init__()\n",
    "        self.cnn = nn.Sequential(\n",
    "            nn.Conv2d(observation_shape[-1], observation_shape[-1], 3),\n",
    "            nn.ReLU(),\n",
    "            nn.Conv2d(observation_shape[-1], observation_shape[-1], 3),\n",
    "            nn.ReLU(),\n",
    "        )\n",
    "        dummy_input = torch.randn(observation_shape).permute(2, 0, 1)\n",
    "        dummy_output = self.cnn(dummy_input)\n",
    "        flatten_dim = dummy_output.view(-1).shape[0]\n",
    "\n",
    "        self.gru = nn.GRU(input_size=flatten_dim, hidden_size=hidden_size, num_layers=num_layers, batch_first=False)\n",
    "\n",
    "        self.network = nn.Sequential(\n",
    "            nn.Linear(hidden_size, 120),\n",
    "            nn.LayerNorm(120),\n",
    "            nn.ReLU(),\n",
    "            nn.Linear(120, 84),\n",
    "            nn.LayerNorm(84),\n",
    "            nn.Tanh(),\n",
    "        )\n",
    "\n",
    "        self.last_layer = nn.Linear(84, action_shape)\n",
    "\n",
    "    def forward(self, x):\n",
    "        assert len(x.shape) >= 3, \"only support magent input observation\"\n",
    "        x = self.cnn(x)\n",
    "        if len(x.shape) == 3:\n",
    "            batchsize = 1\n",
    "        else:\n",
    "            batchsize = x.shape[0]\n",
    "        x = x.reshape(batchsize, -1)\n",
    "        x = x.unsqueeze(0)\n",
    "        out, hidden = self.gru(x)\n",
    "        x = out[-1, :, :]\n",
    "        \n",
    "        x = self.network(x)\n",
    "        self.last_latent = x\n",
    "        return self.last_layer(x)\n"
   ]
  },
  {
   "cell_type": "code",
   "execution_count": 60,
   "metadata": {},
   "outputs": [],
   "source": [
    "# Use SumTree to build Priotized Replay Buffer, which sort prioritize the samples by td-error\n",
    " \n",
    "class SumTree:\n",
    "    \"\"\"\n",
    "    A binary tree data structure where the parent's value is the sum of its children\n",
    "    Used in Prioritized Experience Replay\n",
    "    \"\"\"\n",
    "    def __init__(self, capacity):\n",
    "        self.capacity = capacity\n",
    "        self.tree = np.zeros(2 * capacity - 1)\n",
    "        self.data = np.zeros(capacity, dtype=object)\n",
    "        self.data_pointer = 0\n",
    "        self.is_full = False\n",
    "\n",
    "    def add(self, priority, data):\n",
    "        \"\"\"Add new entry to the tree\"\"\"\n",
    "        tree_idx = self.data_pointer + self.capacity - 1\n",
    "        self.data[self.data_pointer] = data\n",
    "        self.update(tree_idx, priority)\n",
    "        \n",
    "        self.data_pointer += 1\n",
    "        if self.data_pointer >= self.capacity:\n",
    "            self.data_pointer = 0\n",
    "            self.is_full = True\n",
    "\n",
    "    def update(self, tree_idx, priority):\n",
    "        \"\"\"Update the priority of an existing entry\"\"\"\n",
    "        # Ensure non-negative priority\n",
    "        priority = max(priority, 1e-8)\n",
    "        \n",
    "        change = priority - self.tree[tree_idx]\n",
    "        self.tree[tree_idx] = priority\n",
    "\n",
    "        # Propagate the change upwards\n",
    "        while tree_idx != 0:\n",
    "            tree_idx = (tree_idx - 1) // 2\n",
    "            self.tree[tree_idx] += change\n",
    "\n",
    "    def get_leaf(self, v):\n",
    "        \"\"\"\n",
    "        Get a leaf from the tree based on the given value\n",
    "        Returns: tree index, priority, data\n",
    "        \"\"\"\n",
    "        parent_idx = 0\n",
    "        while True:\n",
    "            left_child_idx = 2 * parent_idx + 1\n",
    "            right_child_idx = left_child_idx + 1\n",
    "\n",
    "            # If we reach bottom of the tree\n",
    "            if left_child_idx >= len(self.tree):\n",
    "                leaf_idx = parent_idx\n",
    "                break\n",
    "\n",
    "            # Determine which child to follow\n",
    "            if v <= self.tree[left_child_idx]:\n",
    "                parent_idx = left_child_idx\n",
    "            else:\n",
    "                v -= self.tree[left_child_idx]\n",
    "                parent_idx = right_child_idx\n",
    "\n",
    "        data_idx = leaf_idx - self.capacity + 1\n",
    "        return leaf_idx, self.tree[leaf_idx], self.data[data_idx]\n",
    "\n",
    "    def total_priority(self):\n",
    "        \"\"\"Return the total priority in the tree\"\"\"\n",
    "        return self.tree[0]"
   ]
  },
  {
   "cell_type": "code",
   "execution_count": 61,
   "metadata": {},
   "outputs": [],
   "source": [
    "class PrioritizedReplayBuffer:\n",
    "    \"\"\"Prioritized Replay Buffer with proportional prioritization\"\"\"\n",
    "    def __init__(self, capacity, alpha=0.6, beta=0.4, beta_increment_per_sampling=0.001, max_priority=1.0):\n",
    "        self.tree = SumTree(capacity)\n",
    "        self.capacity = capacity\n",
    "        self.alpha = alpha  # How much prioritization is used\n",
    "        self.beta = beta    # Initial importance sampling weight\n",
    "        self.beta_increment_per_sampling = beta_increment_per_sampling\n",
    "        self.max_priority = max_priority\n",
    "        self.epsilon = 1e-8  # Small amount to avoid zero priority\n",
    "\n",
    "    def push(self, state, action, reward, next_state, done):\n",
    "        # Always insert with max priority to ensure it gets sampled\n",
    "        priority = self.max_priority\n",
    "        \n",
    "        # Ensure state, next_state are not None\n",
    "        if state is None or (next_state is None and not done):\n",
    "            return\n",
    "\n",
    "        # Store the experience\n",
    "        experience = (state, action, reward, next_state, done)\n",
    "        self.tree.add(priority, experience)\n",
    "\n",
    "    def sample(self, batch_size):\n",
    "        # Increment beta\n",
    "        self.beta = min(1.0, self.beta + self.beta_increment_per_sampling)\n",
    "\n",
    "        # Ensure we have enough samples\n",
    "        if self.tree.is_full:\n",
    "            total_samples = self.capacity\n",
    "        else:\n",
    "            total_samples = self.tree.data_pointer\n",
    "\n",
    "        if total_samples < batch_size:\n",
    "            raise ValueError(f\"Not enough samples. Required: {batch_size}, Available: {total_samples}\")\n",
    "\n",
    "        # Create batch arrays\n",
    "        batch_idx = np.zeros(batch_size, dtype=np.int32)\n",
    "        batch_states = []\n",
    "        batch_actions = []\n",
    "        batch_rewards = []\n",
    "        batch_next_states = []\n",
    "        batch_dones = []\n",
    "        batch_weights = np.zeros(batch_size, dtype=np.float32)\n",
    "\n",
    "        # Get total priority and segment size\n",
    "        total_priority = self.tree.total_priority()\n",
    "        segment = total_priority / batch_size\n",
    "        priorities = []\n",
    "\n",
    "        for i in range(batch_size):\n",
    "            # Ensure sampling is within range\n",
    "            a = segment * i\n",
    "            b = segment * (i + 1)\n",
    "\n",
    "            # Clip sampling value to avoid overflow\n",
    "            v = np.random.uniform(max(0, a), min(total_priority, b))\n",
    "            \n",
    "            # Get the corresponding leaf\n",
    "            idx, p, data = self.tree.get_leaf(v)\n",
    "            \n",
    "            # Store sampling info\n",
    "            batch_idx[i] = idx\n",
    "            batch_states.append(data[0])\n",
    "            batch_actions.append(data[1])\n",
    "            batch_rewards.append(data[2])\n",
    "            batch_next_states.append(data[3])\n",
    "            batch_dones.append(data[4])\n",
    "            priorities.append(p)\n",
    "\n",
    "        # Convert to tensors\n",
    "        batch_states = torch.tensor(np.array(batch_states), dtype=torch.float32).permute(0, 3, 1, 2)\n",
    "        batch_actions = torch.tensor(batch_actions, dtype=torch.long)\n",
    "        batch_rewards = torch.tensor(batch_rewards, dtype=torch.float32)\n",
    "        \n",
    "        # Handle potential None next_states\n",
    "        batch_next_states = torch.tensor(\n",
    "            np.array([ns if ns is not None else np.zeros_like(batch_states[0].numpy()) for ns in batch_next_states]), \n",
    "            dtype=torch.float32\n",
    "        ).permute(0, 3, 1, 2)\n",
    "        \n",
    "        batch_dones = torch.tensor(batch_dones, dtype=torch.float32)\n",
    "\n",
    "        # Importance sampling weights\n",
    "        priorities = np.array(priorities)\n",
    "        sampling_probs = priorities / total_priority\n",
    "        weights = (len(self.tree.data) * sampling_probs) ** -self.beta\n",
    "        weights /= weights.max()\n",
    "        batch_weights = torch.tensor(weights, dtype=torch.float32)\n",
    "\n",
    "        return batch_states, batch_actions, batch_rewards, batch_next_states, batch_dones, batch_idx, batch_weights\n",
    "\n",
    "    def update_priorities(self, batch_indices, batch_priorities):\n",
    "        \"\"\"\n",
    "        Update priorities of sampled experiences\n",
    "        Add small epsilon to avoid zero priorities\n",
    "        \"\"\"\n",
    "        for idx, priority in zip(batch_indices, batch_priorities):\n",
    "            # Ensure priority is not too small\n",
    "            priority = np.power(np.abs(priority) + self.epsilon, self.alpha)\n",
    "            self.tree.update(idx, priority)\n",
    "\n",
    "    def __len__(self):\n",
    "        \"\"\"Return the current size of the replay buffer.\"\"\"\n",
    "        return self.tree.data_pointer"
   ]
  },
  {
   "cell_type": "code",
   "execution_count": 62,
   "metadata": {},
   "outputs": [],
   "source": [
    "# Using soft update\n",
    "def soft_update(target_network, online_network, tau=0.01):\n",
    "    for target_param, online_param in zip(target_network.parameters(), online_network.parameters()):\n",
    "        target_param.data.copy_(tau * online_param.data + (1 - tau) * target_param.data)"
   ]
  },
  {
   "cell_type": "code",
   "execution_count": 63,
   "metadata": {},
   "outputs": [],
   "source": [
    "# Use episilon-greedy policy\n",
    "def get_action(env,obs_tensor,q_network,epsilon,agent):\n",
    "    if random.random() < epsilon:\n",
    "        action = env.action_space(agent).sample()\n",
    "    else:\n",
    "        with torch.no_grad():\n",
    "            q_values = q_network(obs_tensor)\n",
    "            action = q_values.argmax().item()"
   ]
  },
  {
   "cell_type": "code",
   "execution_count": 64,
   "metadata": {},
   "outputs": [],
   "source": [
    "# Training agent with cross_ratio,\n",
    "# 1: full crossQ, 0: fullDQN\n",
    "def train(q_network, q_network_cross, target_network, \n",
    "          replay_buffer, optimizer, gamma, batch_size, cross_ratio=0.8):\n",
    "    \n",
    "    # Sample from prioritized replay buffer\n",
    "    states, actions, rewards, next_states, dones, batch_indices, weights = replay_buffer.sample(batch_size)\n",
    "    \n",
    "    # Move to device\n",
    "    states = states.to(device)\n",
    "    actions = actions.to(device).long()  # Ensure actions are of long type\n",
    "    rewards = rewards.to(device)\n",
    "    next_states = next_states.to(device)\n",
    "    dones = dones.to(device)\n",
    "    weights = weights.to(device)\n",
    "\n",
    "    # Compute current Q values\n",
    "    q_values = q_network(states).gather(1, actions.unsqueeze(1)).squeeze(1)\n",
    "\n",
    "    with torch.no_grad():\n",
    "        # Choose next actions based on cross or own Q-network\n",
    "        if random.random() < cross_ratio:\n",
    "            next_actions = q_network_cross(next_states).argmax(1)\n",
    "        else:\n",
    "            next_actions = q_network(next_states).argmax(1)\n",
    "        \n",
    "        # Compute next Q values using target network\n",
    "        next_q_values = target_network(next_states).gather(1, next_actions.unsqueeze(1)).squeeze(1)\n",
    "    \n",
    "    # Compute target values\n",
    "    target_values = rewards + gamma * next_q_values * (1 - dones)\n",
    "\n",
    "    # Compute TD error (difference between predicted and target Q values)\n",
    "    td_errors = torch.abs(q_values - target_values)\n",
    "\n",
    "    # Compute weighted MSE loss\n",
    "    loss = F.mse_loss(q_values, target_values, reduction='none')  # MSE loss without reduction\n",
    "    loss = (loss * weights).mean()  # Apply weights and compute the mean loss\n",
    "\n",
    "    # Update priorities in the replay buffer\n",
    "    replay_buffer.update_priorities(batch_indices, td_errors.cpu().detach().numpy())\n",
    "\n",
    "    # Optimize the model\n",
    "    optimizer.zero_grad()  # Clear previous gradients\n",
    "    loss.backward()        # Backpropagate gradients\n",
    "    optimizer.step()       # Update parameters based on gradients\n",
    "\n",
    "    return loss.item()  # Return the loss value"
   ]
  },
  {
   "cell_type": "code",
   "execution_count": 65,
   "metadata": {},
   "outputs": [
    {
     "name": "stdout",
     "output_type": "stream",
     "text": [
      "Using device: cuda\n"
     ]
    }
   ],
   "source": [
    "# set device\n",
    "device = torch.device(\"cuda\" if torch.cuda.is_available() else \"cpu\")\n",
    "print(f\"Using device: {device}\")"
   ]
  },
  {
   "cell_type": "code",
   "execution_count": 66,
   "metadata": {},
   "outputs": [],
   "source": [
    "# Set up Hyperparameters\n",
    "episodes = 20\n",
    "max_steps = 300\n",
    "buffer_capacity = 10000\n",
    "batch_size = 1024\n",
    "gamma = 0.99\n",
    "learning_rate = 1e-4\n",
    "update_target_steps = 10\n",
    "tau = 0.1   # Soft update parameter\n",
    "epsilon_min = 0.1\n",
    "epsilon_decay = 0.1 ** (1 / episodes)"
   ]
  },
  {
   "cell_type": "code",
   "execution_count": 67,
   "metadata": {},
   "outputs": [],
   "source": [
    "# Init env\n",
    "# Environment setup\n",
    "parallel_env = battle_v4.parallel_env(\n",
    "    map_size=45,\n",
    "    minimap_mode=False,\n",
    "    step_reward=-0.005,\n",
    "    dead_penalty=-0.1,\n",
    "    attack_penalty=-0.05,\n",
    "    attack_opponent_reward=0.4,\n",
    "    extra_features=False,\n",
    "    max_cycles=max_steps,\n",
    ")"
   ]
  },
  {
   "cell_type": "code",
   "execution_count": 68,
   "metadata": {},
   "outputs": [],
   "source": [
    "# Set up space for training\n",
    "example_agent = list(parallel_env.agents)[0]\n",
    "obs_space = parallel_env.observation_space(example_agent).shape\n",
    "action_space = parallel_env.action_space(example_agent).n\n",
    "\n",
    "# Q-networks for blue and red teams\n",
    "q_network_blue = QNetworkGRU(obs_space, action_space).to(device)\n",
    "target_network_blue = QNetworkGRU(obs_space, action_space).to(device)\n",
    "target_network_blue.load_state_dict(q_network_blue.state_dict())\n",
    "target_network_blue.eval()\n",
    "\n",
    "q_network_red = QNetworkGRU(obs_space, action_space).to(device)\n",
    "target_network_red = QNetworkGRU(obs_space, action_space).to(device)\n",
    "target_network_red.load_state_dict(q_network_red.state_dict())\n",
    "target_network_red.eval()\n",
    "\n",
    "# Optimizers for both teams\n",
    "optimizer_blue = optim.Adam(q_network_blue.parameters(), lr=learning_rate)\n",
    "optimizer_red = optim.Adam(q_network_red.parameters(), lr=learning_rate)\n",
    "\n",
    "# Prioritized Replay Buffers for both teams\n",
    "replay_buffer_blue = PrioritizedReplayBuffer(buffer_capacity)\n",
    "replay_buffer_red = PrioritizedReplayBuffer(buffer_capacity)"
   ]
  },
  {
   "cell_type": "code",
   "execution_count": 71,
   "metadata": {},
   "outputs": [],
   "source": [
    "\n",
    "blue_rewards_history = []\n",
    "red_rewards_history = []\n",
    "avg_loss_blue_history = []\n",
    "avg_loss_red_history = []\n",
    "epsilon_history = []\n",
    "\n",
    "\n",
    "def plot_results(blue_rewards, red_rewards, blue_losses, red_losses, epsilon_history):\n",
    "    # Vẽ Reward theo các episode\n",
    "    plt.figure(figsize=(12, 6))\n",
    "    plt.subplot(2, 2, 1)\n",
    "    plt.plot(blue_rewards, label='Blue Agent Rewards')\n",
    "    plt.plot(red_rewards, label='Red Agent Rewards')\n",
    "    plt.xlabel('Episode')\n",
    "    plt.ylabel('Reward')\n",
    "    plt.legend()\n",
    "\n",
    "    # Vẽ Loss trung bình theo các episode\n",
    "    plt.subplot(2, 2, 2)\n",
    "    plt.plot(blue_losses, label='Blue Agent Loss')\n",
    "    plt.plot(red_losses, label='Red Agent Loss')\n",
    "    plt.xlabel('Episode')\n",
    "    plt.ylabel('Loss')\n",
    "    plt.legend()\n",
    "\n",
    "    # Vẽ Epsilon decay\n",
    "    plt.subplot(2, 2, 3)\n",
    "    plt.plot(epsilon_history, label='Epsilon')\n",
    "    plt.xlabel('Episode')\n",
    "    plt.ylabel('Epsilon')\n",
    "    plt.legend()\n",
    "\n",
    "    plt.tight_layout()\n",
    "    plt.show()"
   ]
  },
  {
   "cell_type": "code",
   "execution_count": 72,
   "metadata": {},
   "outputs": [
    {
     "name": "stderr",
     "output_type": "stream",
     "text": [
      "  0%|          | 0/20 [00:00<?, ?it/s]"
     ]
    },
    {
     "name": "stderr",
     "output_type": "stream",
     "text": [
      "  5%|▌         | 1/20 [00:51<16:19, 51.55s/it]"
     ]
    },
    {
     "name": "stdout",
     "output_type": "stream",
     "text": [
      "Episode 1/20, Blue Reward: -520.2449960932136, Red Reward: -522.1749958060682, Blue Loss: 0.0001, Red Loss: 0.0002, Epsilon: 1.00\n"
     ]
    },
    {
     "name": "stderr",
     "output_type": "stream",
     "text": [
      " 10%|█         | 2/20 [01:45<15:48, 52.71s/it]"
     ]
    },
    {
     "name": "stdout",
     "output_type": "stream",
     "text": [
      "Episode 2/20, Blue Reward: -259.20999809447676, Red Reward: -37.120015405118465, Blue Loss: 0.0002, Red Loss: 0.0022, Epsilon: 0.89\n"
     ]
    },
    {
     "name": "stderr",
     "output_type": "stream",
     "text": [
      " 15%|█▌        | 3/20 [02:42<15:29, 54.66s/it]"
     ]
    },
    {
     "name": "stdout",
     "output_type": "stream",
     "text": [
      "Episode 3/20, Blue Reward: -99.67000090330839, Red Reward: 83.43997886311263, Blue Loss: 0.0006, Red Loss: 0.0046, Epsilon: 0.79\n"
     ]
    },
    {
     "name": "stderr",
     "output_type": "stream",
     "text": [
      " 20%|██        | 4/20 [03:43<15:19, 57.45s/it]"
     ]
    },
    {
     "name": "stdout",
     "output_type": "stream",
     "text": [
      "Episode 4/20, Blue Reward: 67.54499386716634, Red Reward: 175.88997874315828, Blue Loss: 0.0018, Red Loss: 0.0057, Epsilon: 0.71\n"
     ]
    },
    {
     "name": "stderr",
     "output_type": "stream",
     "text": [
      " 25%|██▌       | 5/20 [04:38<14:09, 56.61s/it]"
     ]
    },
    {
     "name": "stdout",
     "output_type": "stream",
     "text": [
      "Episode 5/20, Blue Reward: 188.68498865049332, Red Reward: 258.0099777895957, Blue Loss: 0.0029, Red Loss: 0.0063, Epsilon: 0.63\n"
     ]
    },
    {
     "name": "stderr",
     "output_type": "stream",
     "text": [
      " 30%|███       | 6/20 [05:13<11:27, 49.08s/it]"
     ]
    },
    {
     "name": "stdout",
     "output_type": "stream",
     "text": [
      "Episode 6/20, Blue Reward: 172.46499006450176, Red Reward: 332.1249769059941, Blue Loss: 0.0022, Red Loss: 0.0032, Epsilon: 0.56\n"
     ]
    },
    {
     "name": "stderr",
     "output_type": "stream",
     "text": [
      " 35%|███▌      | 7/20 [06:09<11:09, 51.49s/it]"
     ]
    },
    {
     "name": "stdout",
     "output_type": "stream",
     "text": [
      "Episode 7/20, Blue Reward: 224.58498707506806, Red Reward: 271.9149785414338, Blue Loss: 0.0046, Red Loss: 0.0079, Epsilon: 0.50\n"
     ]
    },
    {
     "name": "stderr",
     "output_type": "stream",
     "text": [
      " 40%|████      | 8/20 [07:07<10:41, 53.46s/it]"
     ]
    },
    {
     "name": "stdout",
     "output_type": "stream",
     "text": [
      "Episode 8/20, Blue Reward: 348.9099769797176, Red Reward: 302.8899828242138, Blue Loss: 0.0074, Red Loss: 0.0062, Epsilon: 0.45\n"
     ]
    },
    {
     "name": "stderr",
     "output_type": "stream",
     "text": [
      " 45%|████▌     | 9/20 [07:30<08:01, 43.81s/it]"
     ]
    },
    {
     "name": "stdout",
     "output_type": "stream",
     "text": [
      "Episode 9/20, Blue Reward: 248.31998737249523, Red Reward: 436.09997620340437, Blue Loss: 0.0019, Red Loss: 0.0033, Epsilon: 0.40\n"
     ]
    },
    {
     "name": "stderr",
     "output_type": "stream",
     "text": [
      " 50%|█████     | 10/20 [08:06<06:55, 41.53s/it]"
     ]
    },
    {
     "name": "stdout",
     "output_type": "stream",
     "text": [
      "Episode 10/20, Blue Reward: 298.28498519118875, Red Reward: 433.20497606601566, Blue Loss: 0.0048, Red Loss: 0.0110, Epsilon: 0.35\n"
     ]
    },
    {
     "name": "stderr",
     "output_type": "stream",
     "text": [
      " 55%|█████▌    | 11/20 [08:23<05:06, 34.08s/it]"
     ]
    },
    {
     "name": "stdout",
     "output_type": "stream",
     "text": [
      "Episode 11/20, Blue Reward: 362.7949819881469, Red Reward: 460.56997622922063, Blue Loss: 0.0030, Red Loss: 0.0041, Epsilon: 0.32\n"
     ]
    },
    {
     "name": "stderr",
     "output_type": "stream",
     "text": [
      " 60%|██████    | 12/20 [08:45<04:03, 30.45s/it]"
     ]
    },
    {
     "name": "stdout",
     "output_type": "stream",
     "text": [
      "Episode 12/20, Blue Reward: 462.52997575327754, Red Reward: 343.2249831967056, Blue Loss: 0.0055, Red Loss: 0.0057, Epsilon: 0.28\n"
     ]
    },
    {
     "name": "stderr",
     "output_type": "stream",
     "text": [
      " 65%|██████▌   | 13/20 [09:40<04:24, 37.85s/it]"
     ]
    },
    {
     "name": "stdout",
     "output_type": "stream",
     "text": [
      "Episode 13/20, Blue Reward: 341.99498298112303, Red Reward: 358.43997793644667, Blue Loss: 0.0161, Red Loss: 0.0201, Epsilon: 0.25\n"
     ]
    },
    {
     "name": "stderr",
     "output_type": "stream",
     "text": [
      " 70%|███████   | 14/20 [10:04<03:20, 33.49s/it]"
     ]
    },
    {
     "name": "stdout",
     "output_type": "stream",
     "text": [
      "Episode 14/20, Blue Reward: 406.73998035117984, Red Reward: 473.9349756119773, Blue Loss: 0.0058, Red Loss: 0.0061, Epsilon: 0.22\n"
     ]
    },
    {
     "name": "stderr",
     "output_type": "stream",
     "text": [
      " 75%|███████▌  | 15/20 [10:23<02:25, 29.16s/it]"
     ]
    },
    {
     "name": "stdout",
     "output_type": "stream",
     "text": [
      "Episode 15/20, Blue Reward: 416.75997975002974, Red Reward: 477.46497560385615, Blue Loss: 0.0050, Red Loss: 0.0053, Epsilon: 0.20\n"
     ]
    },
    {
     "name": "stderr",
     "output_type": "stream",
     "text": [
      " 80%|████████  | 16/20 [10:38<01:39, 24.83s/it]"
     ]
    },
    {
     "name": "stdout",
     "output_type": "stream",
     "text": [
      "Episode 16/20, Blue Reward: 317.4349849484861, Red Reward: 479.92997585237026, Blue Loss: 0.0046, Red Loss: 0.0060, Epsilon: 0.18\n"
     ]
    },
    {
     "name": "stderr",
     "output_type": "stream",
     "text": [
      " 85%|████████▌ | 17/20 [11:10<01:21, 27.13s/it]"
     ]
    },
    {
     "name": "stdout",
     "output_type": "stream",
     "text": [
      "Episode 17/20, Blue Reward: 427.4499794105068, Red Reward: 468.5149762518704, Blue Loss: 0.0133, Red Loss: 0.0234, Epsilon: 0.16\n"
     ]
    },
    {
     "name": "stderr",
     "output_type": "stream",
     "text": [
      " 90%|█████████ | 18/20 [11:22<00:44, 22.44s/it]"
     ]
    },
    {
     "name": "stdout",
     "output_type": "stream",
     "text": [
      "Episode 18/20, Blue Reward: 407.3549803206697, Red Reward: 475.4149760901928, Blue Loss: 0.0030, Red Loss: 0.0039, Epsilon: 0.14\n"
     ]
    },
    {
     "name": "stderr",
     "output_type": "stream",
     "text": [
      " 95%|█████████▌| 19/20 [11:54<00:25, 25.53s/it]"
     ]
    },
    {
     "name": "stdout",
     "output_type": "stream",
     "text": [
      "Episode 19/20, Blue Reward: 431.34997909422964, Red Reward: 459.81497623585165, Blue Loss: 0.0154, Red Loss: 0.0203, Epsilon: 0.13\n"
     ]
    },
    {
     "name": "stderr",
     "output_type": "stream",
     "text": [
      "100%|██████████| 20/20 [12:10<00:00, 36.51s/it]"
     ]
    },
    {
     "name": "stdout",
     "output_type": "stream",
     "text": [
      "Episode 20/20, Blue Reward: 324.3999851802364, Red Reward: 478.9349763710052, Blue Loss: 0.0048, Red Loss: 0.0057, Epsilon: 0.11\n",
      "Training completed and models saved!\n"
     ]
    },
    {
     "name": "stderr",
     "output_type": "stream",
     "text": [
      "\n"
     ]
    }
   ],
   "source": [
    "# Training phase\n",
    "for episode in tqdm(range(episodes)):\n",
    "    observations = parallel_env.reset()\n",
    "    agent_rewards = {agent: 0 for agent in parallel_env.agents}\n",
    "    total_loss_blue, total_loss_red = 0.0, 0.0\n",
    "\n",
    "    # Improved Exponential Epsilon Decay\n",
    "    epsilon = max(epsilon_min, epsilon_decay ** episode)\n",
    "\n",
    "    for step in range(max_steps):\n",
    "        actions = {}\n",
    "        for agent, obs in observations.items():\n",
    "            obs_tensor = torch.tensor(obs, dtype=torch.float32).permute(2, 0, 1).unsqueeze(0).to(device)\n",
    "            # Select action based on team\n",
    "            if \"blue\" in agent:\n",
    "                if random.random() < epsilon:\n",
    "                    action = parallel_env.action_space(agent).sample()\n",
    "                else:\n",
    "                    with torch.no_grad():\n",
    "                        q_values = q_network_blue(obs_tensor)\n",
    "                        action = q_values.argmax().item()\n",
    "            elif \"red\" in agent:\n",
    "                if random.random() < epsilon:\n",
    "                    action = parallel_env.action_space(agent).sample()\n",
    "                else:\n",
    "                    with torch.no_grad():\n",
    "                        q_values = q_network_red(obs_tensor)\n",
    "                        action = q_values.argmax().item()\n",
    "\n",
    "            actions[agent] = action\n",
    "\n",
    "        next_observations, rewards, terminations, truncations, _ = parallel_env.step(actions)\n",
    "        for agent in parallel_env.agents:\n",
    "            next_state = next_observations[agent] if not (terminations[agent] or truncations[agent]) else None\n",
    "            dones = True if (terminations[agent] or truncations[agent]) else False\n",
    "\n",
    "            if \"blue\" in agent:\n",
    "                replay_buffer_blue.push(\n",
    "                    observations[agent],\n",
    "                    actions[agent],\n",
    "                    rewards[agent],\n",
    "                    next_state,\n",
    "                    dones,\n",
    "                )\n",
    "            else:\n",
    "                replay_buffer_red.push(\n",
    "                    observations[agent],\n",
    "                    actions[agent],\n",
    "                    rewards[agent],\n",
    "                    next_state,\n",
    "                    dones,\n",
    "                )\n",
    "            agent_rewards[agent] += rewards[agent]\n",
    "\n",
    "        if (len(replay_buffer_red) >= batch_size and len(replay_buffer_blue) >= batch_size):\n",
    "            # Train blue agents\n",
    "            loss_blue = train(q_network_blue, q_network_red, target_network_blue, \n",
    "                                replay_buffer_blue, optimizer_blue, gamma,batch_size,cross_ratio=0.8)\n",
    "            # Train red agents\n",
    "            loss_red = train(q_network_red, q_network_blue, target_network_red, \n",
    "                                replay_buffer_red, optimizer_red, gamma,batch_size,cross_ratio=0)                \n",
    "\n",
    "            total_loss_blue += loss_blue\n",
    "            total_loss_red += loss_red\n",
    "\n",
    "        if step % update_target_steps == 0:\n",
    "            soft_update(target_network_red, q_network_red, tau)\n",
    "            soft_update(target_network_blue, q_network_blue, tau)\n",
    "\n",
    "        observations = copy.deepcopy(next_observations)\n",
    "        # print(f\"For step: {step}, Number of agent: {parallel_env.num_agents}\")\n",
    "        if(parallel_env.num_agents == 0): break\n",
    "\n",
    "    blue_rewards = sum(reward for agent, reward in agent_rewards.items() if \"blue\" in agent)\n",
    "    red_rewards = sum(reward for agent, reward in agent_rewards.items() if \"red\" in agent)\n",
    "    avg_loss_blue = total_loss_blue / max_steps if len(replay_buffer_blue.tree.data) >= batch_size else 0\n",
    "    avg_loss_red = total_loss_red / max_steps if len(replay_buffer_red.tree.data) >= batch_size else 0\n",
    "\n",
    "    blue_rewards_history.append(blue_rewards)\n",
    "    red_rewards_history.append(red_rewards)\n",
    "    avg_loss_blue_history.append(avg_loss_blue)\n",
    "    avg_loss_red_history.append(avg_loss_red)\n",
    "    epsilon_history.append(epsilon)\n",
    "\n",
    "    print(f\"Episode {episode + 1}/{episodes}, Blue Reward: {blue_rewards}, Red Reward: {red_rewards}, \"\n",
    "            f\"Blue Loss: {avg_loss_blue:.4f}, Red Loss: {avg_loss_red:.4f}, Epsilon: {epsilon:.2f}\")\n",
    "\n",
    "parallel_env.close()\n",
    "torch.save(q_network_blue.state_dict(), 'blue_agent_final.pt')\n",
    "torch.save(q_network_red.state_dict(), 'red_agent_final.pt')\n",
    "print(\"Training completed and models saved!\")"
   ]
  },
  {
   "cell_type": "code",
   "execution_count": 73,
   "metadata": {},
   "outputs": [
    {
     "data": {
      "image/png": "[encoded data removed]",
      "text/plain": [
       "<Figure size 1200x600 with 3 Axes>"
      ]
     },
     "metadata": {},
     "output_type": "display_data"
    }
   ],
   "source": [
    "plot_results(blue_rewards_history, red_rewards_history, avg_loss_blue_history, avg_loss_red_history, epsilon_history)"
   ]
  },
  {
   "cell_type": "markdown",
   "metadata": {},
   "source": [
    "## Evaluation with teacher model"
   ]
  },
  {
   "cell_type": "code",
   "execution_count": 74,
   "metadata": {},
   "outputs": [],
   "source": [
    "# Teacher model\n",
    "class QNetwork(nn.Module):\n",
    "    def __init__(self, observation_shape, action_shape):\n",
    "        super().__init__()\n",
    "        self.cnn = nn.Sequential(\n",
    "            nn.Conv2d(observation_shape[-1], observation_shape[-1], 3),\n",
    "            nn.ReLU(),\n",
    "            nn.Conv2d(observation_shape[-1], observation_shape[-1], 3),\n",
    "            nn.ReLU(),\n",
    "        )\n",
    "        dummy_input = torch.randn(observation_shape).permute(2, 0, 1)\n",
    "        dummy_output = self.cnn(dummy_input)\n",
    "        flatten_dim = dummy_output.view(-1).shape[0]\n",
    "        self.network = nn.Sequential(\n",
    "            nn.Linear(flatten_dim, 120),\n",
    "            nn.ReLU(),\n",
    "            nn.Linear(120, 84),\n",
    "            nn.ReLU(),\n",
    "            nn.Linear(84, action_shape),\n",
    "        )\n",
    "\n",
    "    def forward(self, x):\n",
    "        assert len(x.shape) >= 3, \"only support magent input observation\"\n",
    "        x = self.cnn(x)\n",
    "        if len(x.shape) == 3:\n",
    "            batchsize = 1\n",
    "        else:\n",
    "            batchsize = x.shape[0]\n",
    "        x = x.reshape(batchsize, -1)\n",
    "        return self.network(x)\n",
    "\n",
    "# Final Network\n",
    "class FinalQNetwork(nn.Module):\n",
    "    def __init__(self, observation_shape, action_shape):\n",
    "        super().__init__()\n",
    "        self.cnn = nn.Sequential(\n",
    "            nn.Conv2d(observation_shape[-1], observation_shape[-1], 3),\n",
    "            nn.ReLU(),\n",
    "            nn.Conv2d(observation_shape[-1], observation_shape[-1], 3),\n",
    "            nn.ReLU(),\n",
    "        )\n",
    "        dummy_input = torch.randn(observation_shape).permute(2, 0, 1)\n",
    "        dummy_output = self.cnn(dummy_input)\n",
    "        flatten_dim = dummy_output.view(-1).shape[0]\n",
    "        self.network = nn.Sequential(\n",
    "            nn.Linear(flatten_dim, 120),\n",
    "            # nn.LayerNorm(120),\n",
    "            nn.ReLU(),\n",
    "            nn.Linear(120, 84),\n",
    "            # nn.LayerNorm(84),\n",
    "            nn.Tanh(),\n",
    "        )\n",
    "        self.last_layer = nn.Linear(84, action_shape)\n",
    "\n",
    "    def forward(self, x):\n",
    "        assert len(x.shape) >= 3, \"only support magent input observation\"\n",
    "        x = self.cnn(x)\n",
    "        if len(x.shape) == 3:\n",
    "            batchsize = 1\n",
    "        else:\n",
    "            batchsize = x.shape[0]\n",
    "        x = x.reshape(batchsize, -1)\n",
    "        x = self.network(x)\n",
    "        self.last_latent = x\n",
    "        return self.last_layer(x)"
   ]
  },
  {
   "cell_type": "code",
   "execution_count": 75,
   "metadata": {},
   "outputs": [
    {
     "name": "stderr",
     "output_type": "stream",
     "text": [
      "/work/hpc/miniconda3/envs/rl-env/lib/python3.10/site-packages/pettingzoo/utils/wrappers/base.py:64: UserWarning: The `action_spaces` dictionary is deprecated. Use the `action_space` function instead.\n"
     ]
    },
    {
     "name": "stdout",
     "output_type": "stream",
     "text": [
      "====================\n",
      "Eval with random policy\n"
     ]
    },
    {
     "name": "stderr",
     "output_type": "stream",
     "text": [
      "100%|██████████| 30/30 [06:21<00:00, 12.70s/it]\n"
     ]
    },
    {
     "name": "stdout",
     "output_type": "stream",
     "text": [
      "{'winrate_red': 0.0, 'winrate_blue': 1.0, 'average_rewards_red': -1.1615555974923135, 'average_rewards_blue': 0.7363928112163068}\n",
      "====================\n",
      "Eval with trained policy\n"
     ]
    },
    {
     "name": "stderr",
     "output_type": "stream",
     "text": [
      "100%|██████████| 30/30 [03:56<00:00,  7.87s/it]\n"
     ]
    },
    {
     "name": "stdout",
     "output_type": "stream",
     "text": [
      "{'winrate_red': 0.0, 'winrate_blue': 1.0, 'average_rewards_red': 0.8969485528111732, 'average_rewards_blue': 4.073403225278429}\n",
      "====================\n",
      "Eval with final trained policy\n"
     ]
    },
    {
     "name": "stderr",
     "output_type": "stream",
     "text": [
      "100%|██████████| 30/30 [05:30<00:00, 11.00s/it]"
     ]
    },
    {
     "name": "stdout",
     "output_type": "stream",
     "text": [
      "{'winrate_red': 0.0, 'winrate_blue': 1.0, 'average_rewards_red': 2.224820971614662, 'average_rewards_blue': 3.3257118429114794}\n",
      "====================\n"
     ]
    },
    {
     "name": "stderr",
     "output_type": "stream",
     "text": [
      "\n"
     ]
    }
   ],
   "source": [
    "from magent2.environments import battle_v4\n",
    "import torch\n",
    "import numpy as np\n",
    "import torch.nn as nn\n",
    "\n",
    "try:\n",
    "    from tqdm import tqdm\n",
    "except ImportError:\n",
    "    tqdm = lambda x, *args, **kwargs: x  # Fallback: tqdm becomes a no-op\n",
    "\n",
    "\n",
    "\n",
    "def eval():\n",
    "    max_cycles = 300\n",
    "    env = battle_v4.env(map_size=45, max_cycles=max_cycles)\n",
    "    device = \"cuda\" if torch.cuda.is_available() else \"cpu\"\n",
    "\n",
    "    def random_policy(env, agent, obs):\n",
    "        return env.action_space(agent).sample()\n",
    "\n",
    "    # middle red policy\n",
    "    q_network = QNetwork(\n",
    "        env.observation_space(\"red_0\").shape, env.action_space(\"red_0\").n\n",
    "    )\n",
    "    q_network.load_state_dict(\n",
    "        torch.load(\"red.pt\", weights_only=True, map_location=\"cpu\")\n",
    "    )\n",
    "    q_network.to(device)\n",
    "    # final red policy\n",
    "    final_q_network = FinalQNetwork(\n",
    "        env.observation_space(\"red_0\").shape, env.action_space(\"red_0\").n\n",
    "    )\n",
    "    final_q_network.load_state_dict(\n",
    "        torch.load(\"red_final.pt\", weights_only=True, map_location=\"cpu\")\n",
    "    )\n",
    "    final_q_network.to(device)\n",
    "\n",
    "    q_network_blue = QNetworkGRU(\n",
    "        env.observation_space(\"blue_0\").shape, env.action_space(\"blue_0\").n\n",
    "    )\n",
    "    # My blue policy\n",
    "    q_network_blue.load_state_dict(\n",
    "        torch.load(\"blue_agent_final.pt\", weights_only=True, map_location=\"cpu\")\n",
    "    )\n",
    "    q_network_blue.to(device)\n",
    "\n",
    "    def blue_policy(env, agent, obs):\n",
    "        observation = (\n",
    "            torch.Tensor(obs).float().permute([2, 0, 1]).unsqueeze(0).to(device)\n",
    "        )\n",
    "        with torch.no_grad():\n",
    "            q_values = q_network_blue(observation)\n",
    "        return torch.argmax(q_values, dim=1).cpu().numpy()[0]\n",
    "\n",
    "\n",
    "    def pretrain_policy(env, agent, obs):\n",
    "        observation = (\n",
    "            torch.Tensor(obs).float().permute([2, 0, 1]).unsqueeze(0).to(device)\n",
    "        )\n",
    "        with torch.no_grad():\n",
    "            q_values = q_network(observation)\n",
    "        return torch.argmax(q_values, dim=1).cpu().numpy()[0]\n",
    "\n",
    "    def final_pretrain_policy(env, agent, obs):\n",
    "        observation = (\n",
    "            torch.Tensor(obs).float().permute([2, 0, 1]).unsqueeze(0).to(device)\n",
    "        )\n",
    "        with torch.no_grad():\n",
    "            q_values = final_q_network(observation)\n",
    "        return torch.argmax(q_values, dim=1).cpu().numpy()[0]\n",
    "\n",
    "    def run_eval(env, red_policy, blue_policy, n_episode: int = 100):\n",
    "        red_win, blue_win = [], []\n",
    "        red_tot_rw, blue_tot_rw = [], []\n",
    "        n_agent_each_team = len(env.env.action_spaces) // 2\n",
    "\n",
    "        for _ in tqdm(range(n_episode)):\n",
    "            env.reset()\n",
    "            n_kill = {\"red\": 0, \"blue\": 0}\n",
    "            red_reward, blue_reward = 0, 0\n",
    "\n",
    "            for agent in env.agent_iter():\n",
    "                observation, reward, termination, truncation, info = env.last()\n",
    "                agent_team = agent.split(\"_\")[0]\n",
    "\n",
    "                n_kill[agent_team] += (\n",
    "                    reward > 4.5\n",
    "                )  # This assumes default reward settups\n",
    "                if agent_team == \"red\":\n",
    "                    red_reward += reward\n",
    "                else:\n",
    "                    blue_reward += reward\n",
    "\n",
    "                if termination or truncation:\n",
    "                    action = None  # this agent has died\n",
    "                else:\n",
    "                    if agent_team == \"red\":\n",
    "                        action = red_policy(env, agent, observation)\n",
    "                    else:\n",
    "                        action = blue_policy(env, agent, observation)\n",
    "\n",
    "                env.step(action)\n",
    "\n",
    "            who_wins = \"red\" if n_kill[\"red\"] >= n_kill[\"blue\"] + 5 else \"draw\"\n",
    "            who_wins = \"blue\" if n_kill[\"red\"] + 5 <= n_kill[\"blue\"] else who_wins\n",
    "            red_win.append(who_wins == \"red\")\n",
    "            blue_win.append(who_wins == \"blue\")\n",
    "\n",
    "            red_tot_rw.append(red_reward / n_agent_each_team)\n",
    "            blue_tot_rw.append(blue_reward / n_agent_each_team)\n",
    "\n",
    "        return {\n",
    "            \"winrate_red\": np.mean(red_win),\n",
    "            \"winrate_blue\": np.mean(blue_win),\n",
    "            \"average_rewards_red\": np.mean(red_tot_rw),\n",
    "            \"average_rewards_blue\": np.mean(blue_tot_rw),\n",
    "        }\n",
    "\n",
    "    print(\"=\" * 20)\n",
    "    print(\"Eval with random policy\")\n",
    "    print(\n",
    "        run_eval(\n",
    "            env=env, red_policy=random_policy, blue_policy=blue_policy, n_episode=30\n",
    "        )\n",
    "    )\n",
    "    print(\"=\" * 20)\n",
    "\n",
    "    print(\"Eval with trained policy\")\n",
    "    print(\n",
    "        run_eval(\n",
    "            env=env, red_policy=pretrain_policy, blue_policy=blue_policy, n_episode=30\n",
    "        )\n",
    "    )\n",
    "    print(\"=\" * 20)\n",
    "\n",
    "    print(\"Eval with final trained policy\")\n",
    "    print(\n",
    "        run_eval(\n",
    "            env=env,\n",
    "            red_policy=final_pretrain_policy,\n",
    "            blue_policy=blue_policy,\n",
    "            n_episode=30,\n",
    "        )\n",
    "    )\n",
    "    print(\"=\" * 20)\n",
    "\n",
    "\n",
    "if __name__ == \"__main__\":\n",
    "    eval()"
   ]
  },
  {
   "cell_type": "code",
   "execution_count": null,
   "metadata": {},
   "outputs": [],
   "source": []
  }
 ],
 "metadata": {
  "kernelspec": {
   "display_name": "rl-env",
   "language": "python",
   "name": "python3"
  },
  "language_info": {
   "codemirror_mode": {
    "name": "ipython",
    "version": 3
   },
   "file_extension": ".py",
   "mimetype": "text/x-python",
   "name": "python",
   "nbconvert_exporter": "python",
   "pygments_lexer": "ipython3",
   "version": "3.10.16"
  }
 },
 "nbformat": 4,
 "nbformat_minor": 2
}
